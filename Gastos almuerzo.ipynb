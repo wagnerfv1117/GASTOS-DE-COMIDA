{
 "cells": [
  {
   "cell_type": "markdown",
   "metadata": {},
   "source": [
    "<center> <h1>ANALISIS  GASTOS EN COMIDAS</h1> </center>"
   ]
  },
  {
   "cell_type": "markdown",
   "metadata": {},
   "source": [
    "## 1- Procedimiento"
   ]
  },
  {
   "cell_type": "markdown",
   "metadata": {},
   "source": [
    "### 1.1 - Preparación de la data"
   ]
  },
  {
   "cell_type": "markdown",
   "metadata": {},
   "source": [
    "<p style=\"text-align: justify;\">En este informe, se procede con hacer un informe analítico sobre los gastos de almuerzo durante xxx fecha, para saber donde se ha gastado más rubro, cuyos datos se encuentran almacenados en una Base de Datos.</p>"
   ]
  },
  {
   "cell_type": "markdown",
   "metadata": {},
   "source": [
    "<p style=\"text-align: justify;\">Se procede con importar las librerías necesarias con python, para extraer los datos de la Base de Datos:</p>"
   ]
  },
  {
   "cell_type": "code",
   "execution_count": 1,
   "metadata": {},
   "outputs": [],
   "source": [
    "import sqlite3 # Libreía de Python, para poder realizar conexión con Bases de Datos Tipo SQLITE.\n",
    "import pandas as pd # Librería de Python, para organizar y estructurar datos de diferentes tipos.\n",
    "import matplotlib.pyplot as plt # Librería de Python, para crear gráficos; pyplot, es un módulo que ayuda Pyplot es un módulo Matplotlib que propone varias funciones sencillas para añadir elementos tales como líneas, imágenes o textos a los ejes de un gráfico. "
   ]
  },
  {
   "cell_type": "markdown",
   "metadata": {},
   "source": [
    "### 1.2 - Conexión con la Base de Datos"
   ]
  },
  {
   "cell_type": "markdown",
   "metadata": {},
   "source": [
    "<p style=\"text-align: justify;\">Se procede con programar la conexión con la Base de Datos en conjunto con el paquete de Pandas, al definir la variable, se selecciona la tabla deseada a analizar:</p>"
   ]
  },
  {
   "cell_type": "code",
   "execution_count": 2,
   "metadata": {},
   "outputs": [
    {
     "name": "stdout",
     "output_type": "stream",
     "text": [
      "Estimado analista, a continuación, se muestran los datos de la tabla:\n",
      "    id       fecha    monto                           donde\n",
      "0    1  27/02/2022  43550.0  ALMUERZO DONDE DOÑA LUZ MARINA\n",
      "1    2  28/02/2022  10500.0  ALMUERZO DONDE DOÑA LUZ MARINA\n",
      "2    3  03/03/2022   9000.0  ALMUERZO DONDE DOÑA LUZ MARINA\n",
      "3    4   4/03/2022   9000.0  ALMUERZO DONDE DOÑA LUZ MARINA\n",
      "4    5   5/03/2022   9000.0  ALMUERZO DONDE DOÑA LUZ MARINA\n",
      "5    6  06/03/2022      0.0                ALMUERZO EN CASA\n",
      "6    7  07/03/2022  10500.0  ALMUERZO DONDE DOÑA LUZ MARINA\n",
      "7    8  08/03/2022   9000.0  ALMUERZO DONDE DOÑA LUZ MARINA\n",
      "8    9  09/03/2022      0.0                ALMUERZO EN CASA\n",
      "9   10  10/03/2022  14500.0  ALMUERZO DONDE DOÑA LUZ MARINA\n",
      "10  11  11/03/2022   9000.0  ALMUERZO DONDE DOÑA LUZ MARINA\n",
      "11  12  12/03/2022    900.0                ALMUERZO EN CASA\n",
      "12  13  13/03/2022   7000.0  ALMUERZO DONDE DOÑA LUZ MARINA\n",
      "13  14  14/03/2022   9000.0  ALMUERZO DONDE DOÑA LUZ MARINA\n",
      "14  15  15/03/2022  10000.0  ALMUERZO DONDE DOÑA LUZ MARINA\n"
     ]
    }
   ],
   "source": [
    "con = sqlite3.connect('gastos.sqlite') # Se define variables pertinentes, para crear una conexion hace la base de datos con su respectiva tupla.\n",
    "\n",
    "df = pd.read_sql_query(\"SELECT * from almuerzos\", con) # Variable con Pandas, para seleccionar la respectiva tabla de la Base de Datos a analizar.\n",
    "print(\"Estimado analista, a continuación, se muestran los datos de la tabla:\") # Mensaje de alerta o información.\n",
    "print(df.head(30))# Número de registros, que se desea mostrar \n",
    "con.close() # Cierre de la conexión a la Base de Datos."
   ]
  },
  {
   "cell_type": "markdown",
   "metadata": {},
   "source": [
    "## 2- Elaboración de gráficas o patrones"
   ]
  },
  {
   "cell_type": "markdown",
   "metadata": {},
   "source": []
  },
  {
   "cell_type": "code",
   "execution_count": 3,
   "metadata": {},
   "outputs": [
    {
     "name": "stdout",
     "output_type": "stream",
     "text": [
      "Se muestran los datos de una forma graficada tipo barra\n"
     ]
    },
    {
     "data": {
      "text/plain": [
       "Text(0.5, 1.0, 'CONSUMO DE ALMUERZOS DIARIOS')"
      ]
     },
     "execution_count": 3,
     "metadata": {},
     "output_type": "execute_result"
    },
    {
     "data": {
      "image/png": "[encoded data removed]",
      "text/plain": [
       "<Figure size 432x288 with 1 Axes>"
      ]
     },
     "metadata": {
      "needs_background": "light"
     },
     "output_type": "display_data"
    }
   ],
   "source": [
    "print(\"Se muestran los datos de una forma graficada tipo barra\") # Mensaje de alerta o información.\n",
    "df.groupby('fecha')['monto'].sum().plot(kind='barh',legend='Reverse', color='orange') # Se procede a realizar un agrupamiento de los datos que quiero solicitar, y verificar, así como asignarle color a la gráfica.\n",
    "plt.xlabel('Monto en pesos colombianos (COP)') # Aquí se pone un titulo en el eje X\n",
    "plt.ylabel('Fecha') # Aquí se pone un titulo en el eje Y\n",
    "plt.rcParams[\"figure.figsize\"] = (8, 8)# Establcecer el tamaño de la imagen.\n",
    "plt.title('CONSUMO DE ALMUERZOS DIARIOS') # Título del gráfico."
   ]
  },
  {
   "cell_type": "markdown",
   "metadata": {},
   "source": [
    "## 3- Referencias Bibliográficas"
   ]
  },
  {
   "cell_type": "markdown",
   "metadata": {},
   "source": [
    "https://datascientest.com/es/todo-sobre-matplotlib"
   ]
  }
 ],
 "metadata": {
  "kernelspec": {
   "display_name": "Python 3.10.5 64-bit",
   "language": "python",
   "name": "python3"
  },
  "language_info": {
   "codemirror_mode": {
    "name": "ipython",
    "version": 3
   },
   "file_extension": ".py",
   "mimetype": "text/x-python",
   "name": "python",
   "nbconvert_exporter": "python",
   "pygments_lexer": "ipython3",
   "version": "3.10.5"
  },
  "orig_nbformat": 4,
  "vscode": {
   "interpreter": {
    "hash": "bb16339d622d833763448844aa3d62a845dc5e8ebd6d4523acfdc29f21243b06"
   }
  }
 },
 "nbformat": 4,
 "nbformat_minor": 2
}
